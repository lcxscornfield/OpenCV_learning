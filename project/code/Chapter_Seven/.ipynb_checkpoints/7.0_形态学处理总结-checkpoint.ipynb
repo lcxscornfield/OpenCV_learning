{
 "cells": [
  {
   "cell_type": "markdown",
   "metadata": {},
   "source": [
    "形态学处理主要对图像处理，提取高亮区域的暗部，提取暗部区域的高光。\n",
    "\n",
    "基础构建结构元element：\n",
    "* element = cv2.getStructuringElement(shape,ksize)\n",
    "* shape: cv2.MORPH_RECT(矩形）,cv2.MORPH_ELLIPSEM(椭圆形),cv2.MORPH_CROSS(十字交叉形）\n",
    "\n",
    "\n",
    "7.1_腐蚀：领域最小灰度做输出灰度。图像亮度降低。亮度区域减小。\n",
    "* dst = cv2.erode(src,element,iterations迭代次数）\n",
    "\n",
    "7.2_膨胀：领域最大灰度做输出灰度。图像亮度提高。亮度区域增加。\n",
    "* dst = cv2.dilate(src,element,iterations)\n",
    "\n",
    "7.3/7.4_开运算&闭运算&白顶帽&黑底帽&形态学梯度\n",
    "* 开运算: erode * dilate，消除暗部高亮区域，不改变面积情况下平滑边界\n",
    "* 闭运算：dilate * erode，消除高光部分的暗部，多次迭代处理不改变面积情况平滑边界\n",
    "* 白顶帽：src - open，得到暗部被消除的高光\n",
    "* 黑底帽：src - close,得到高光消除的暗部\n",
    "* 形态学梯度：dilate - erode,边缘检测作用\n",
    "\n",
    "\n",
    "* dst = cv2.morphologyEx(src,op,element)\n",
    "    * MORPH_OPEN:开运算\n",
    "    * MORPH_CLOSE:闭运算\n",
    "    * MORPH_TOPHAT:顶帽运算\n",
    "    * MORPH_BLACKHAT：底帽运算\n",
    "    * MORPH_GRADIENT:梯度运算    \n",
    "\n",
    "7.3还介绍了OpenCV用调节条实时调节结构元半径&迭代次数"
   ]
  }
 ],
 "metadata": {
  "kernelspec": {
   "display_name": "Python 2",
   "language": "python",
   "name": "python2"
  },
  "language_info": {
   "codemirror_mode": {
    "name": "ipython",
    "version": 2
   },
   "file_extension": ".py",
   "mimetype": "text/x-python",
   "name": "python",
   "nbconvert_exporter": "python",
   "pygments_lexer": "ipython2",
   "version": "2.7.17"
  }
 },
 "nbformat": 4,
 "nbformat_minor": 2
}
