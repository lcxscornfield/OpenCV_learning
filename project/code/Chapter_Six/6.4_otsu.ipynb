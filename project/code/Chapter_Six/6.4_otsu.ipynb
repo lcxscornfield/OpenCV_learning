{
 "cells": [
  {
   "cell_type": "markdown",
   "metadata": {},
   "source": [
    "终于要介绍Otsu算法了，Otsu算法是最大方差法。在前面已经使用过了\n",
    "\n",
    "otsu_thresh,dst_otsu = cv2.threshold(src,otsu_thresh,255,8)#最后的参数8代表cv2.THRESH_OTSU\n",
    "\n",
    "只支持8位图"
   ]
  },
  {
   "cell_type": "markdown",
   "metadata": {},
   "source": [
    "原理："
   ]
  },
  {
   "cell_type": "code",
   "execution_count": 2,
   "metadata": {},
   "outputs": [],
   "source": [
    "def calcGrayHist(image):\n",
    "    rows,cols = image.shape\n",
    "    grayHist = np.zeros([256],np.unit64)\n",
    "    for r in xrange(rows):\n",
    "        for c in xrange(cols):\n",
    "            grayHist[image[r][c]] += 1\n",
    "    return grayHist\n",
    "\n",
    "def otsu(image):\n",
    "    rows,cols =image.shape\n",
    "    #计算灰度直方图\n",
    "    histogram = calcGrayHist(image)\n",
    "    #归一化\n",
    "    uniformGrayHist = grayHist/float(rows*cols)\n",
    "    #计算零阶累计矩和一阶累积矩\n",
    "    zeroCumuMoment = np.zeros([256],np.float32)\n",
    "    oneCumuMoment = np.zeros([256],np.float32)\n",
    "    for k in xrange(256):\n",
    "        if k == 0:\n",
    "            zeroCumuMoment[k] = uniformGrayHist[0]\n",
    "            oneCumuMoment[k] = (k)*uniformGrayHist[0]\n",
    "        else:\n",
    "            zeroCumuMoment[k] = zeroCumuMoment[k-1] + uniformGrayHist[k]\n",
    "            oneCumuMoment[k] = oneCumuMoment[k-1] + k*uniformGrayHist[k]\n",
    "    #计算类间方差\n",
    "    variance = np.zeros([256],np.float32)\n",
    "    for k in xrange(255):\n",
    "        if zeroCumuMoment(k) == 0 or zeroCumuMoment[k] ==1:\n",
    "            variance[k] = 0\n",
    "        else:\n",
    "            variance[k] = math.pow(oneCumuMonet[255]*zeroCumuMoment[k] - oneCumuMoment[k],2)/(zeroCumuMoment[k]*(1.0-zeroCumuMoment[k]))\n",
    "    #找到阈值\n",
    "    threshLoc = np.where(variance[0:255] == np.max(variance[0:255]))\n",
    "    thresh = threshLoc[0][0]\n",
    "    #阈值处理\n",
    "    threshold = np.copy(image)\n",
    "    threshold[threshold > thresh] = 255\n",
    "    threshold[threshold <=thresh] = 0\n",
    "    return (threshold,thresh)"
   ]
  },
  {
   "cell_type": "markdown",
   "metadata": {},
   "source": [
    "Otsu核心在计算最大类间方差，找到其所在像素值也就对应了阈值。效果相当可以。"
   ]
  }
 ],
 "metadata": {
  "kernelspec": {
   "display_name": "Python 2",
   "language": "python",
   "name": "python2"
  },
  "language_info": {
   "codemirror_mode": {
    "name": "ipython",
    "version": 2
   },
   "file_extension": ".py",
   "mimetype": "text/x-python",
   "name": "python",
   "nbconvert_exporter": "python",
   "pygments_lexer": "ipython2",
   "version": "2.7.17"
  }
 },
 "nbformat": 4,
 "nbformat_minor": 2
}
