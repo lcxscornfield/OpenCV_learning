{
 "cells": [
  {
   "cell_type": "markdown",
   "metadata": {},
   "source": [
    "阈值分割（cv2.threshold）又称二值化处理，通过选取阈值分割，对图像分割成不同的像素集合。对前景与背景有较强对比度的特别有效。\n",
    "\n",
    "threshold(src,dst,thresh，maxval,type)\n",
    "\n",
    "    thresh:阈值；maxVal:输出灰度，一般为255；\n",
    "\n",
    "    type:THRESH_BINARY = 0 , 大于阈值输出maxVal,小于等于输出0；THRESH_BINARY_INV =1 相反\n",
    "\n",
    "        THRESH_OTSU = 8 ，自动计算阈值，并默认搭配THRESH_BINARY输出。\n",
    "        \n",
    "        THRESH_TRIANGLE =16 ，同OTSU"
   ]
  },
  {
   "cell_type": "markdown",
   "metadata": {},
   "source": [
    "python api:"
   ]
  },
  {
   "cell_type": "code",
   "execution_count": 8,
   "metadata": {},
   "outputs": [
    {
     "name": "stdout",
     "output_type": "stream",
     "text": [
      "(150.0, array([[  0, 255,   0],\n",
      "       [  0,   0,   0],\n",
      "       [  0,   0, 255],\n",
      "       [  0,   0,   0],\n",
      "       [  0, 255,   0]], dtype=uint8))\n",
      "98.0 [[255 255   0]\n",
      " [  0   0   0]\n",
      " [  0   0 255]\n",
      " [255   0   0]\n",
      " [  0 255 255]]\n",
      "232.0 [[  0 255   0]\n",
      " [  0   0   0]\n",
      " [  0   0 255]\n",
      " [  0   0   0]\n",
      " [  0   0   0]]\n"
     ]
    }
   ],
   "source": [
    "#-*- coding:utf-8 -*-\n",
    "import numpy as np\n",
    "import cv2\n",
    "src = np.array([[123,234,68],[33,51,17],[48,98,234],[129,89,27],[45,167,134]],np.uint8)\n",
    "\n",
    "#手动设置阈值\n",
    "thresh = 150\n",
    "maxVal = 255\n",
    "dst = cv2.threshold(src,thresh,maxVal,cv2.THRESH_BINARY)\n",
    "print dst\n",
    "#otsu自动阈值处理\n",
    "otsu_thresh = 0\n",
    "otsu_thresh,dst_otsu = cv2.threshold(src,otsu_thresh,255,8)#最后的参数8代表cv2.THRESH_OTSU\n",
    "print otsu_thresh,dst_otsu\n",
    "\n",
    "#TRIANGLE处理\n",
    "triangle_thresh = 0\n",
    "triangle_thresh,dst_tri = cv2.threshold(src,triangle_thresh,255,16)\n",
    "print triangle_thresh,dst_tri"
   ]
  },
  {
   "cell_type": "markdown",
   "metadata": {},
   "source": [
    "原理："
   ]
  },
  {
   "cell_type": "code",
   "execution_count": 2,
   "metadata": {},
   "outputs": [
    {
     "data": {
      "text/plain": [
       "array([[  0, 255,   0],\n",
       "       [  0,   0,   0],\n",
       "       [  0,   0, 255],\n",
       "       [  0,   0,   0],\n",
       "       [  0, 255,   0]])"
      ]
     },
     "execution_count": 2,
     "metadata": {},
     "output_type": "execute_result"
    }
   ],
   "source": [
    "import numpy as np\n",
    "src = np.array([[123,234,68],[33,51,17],[48,98,234],[129,89,27],[45,167,134]])\n",
    "#大于阈值的像素点输出255,小于等于阈值输出0\n",
    "src[src>150]=255\n",
    "src[src<=150]=0\n",
    "src"
   ]
  }
 ],
 "metadata": {
  "kernelspec": {
   "display_name": "Python 2",
   "language": "python",
   "name": "python2"
  },
  "language_info": {
   "codemirror_mode": {
    "name": "ipython",
    "version": 2
   },
   "file_extension": ".py",
   "mimetype": "text/x-python",
   "name": "python",
   "nbconvert_exporter": "python",
   "pygments_lexer": "ipython2",
   "version": "2.7.17"
  }
 },
 "nbformat": 4,
 "nbformat_minor": 2
}
