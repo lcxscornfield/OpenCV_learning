{
 "cells": [
  {
   "cell_type": "markdown",
   "metadata": {},
   "source": [
    "cv2.bitwise_and & cv2.bitwise_or 为与或运算"
   ]
  },
  {
   "cell_type": "code",
   "execution_count": 9,
   "metadata": {},
   "outputs": [
    {
     "name": "stdout",
     "output_type": "stream",
     "text": [
      "[[255   0   0]]\n",
      "[[255   0 255]]\n"
     ]
    }
   ],
   "source": [
    "#-*-coding:utf-8  -*-\n",
    "import cv2\n",
    "import numpy as np\n",
    "src1 = np.array([[255,0,255]])\n",
    "src2 = np.array([[255,0,0]])\n",
    "\n",
    "#与运算\n",
    "dst_and = cv2.bitwise_and(src1,src2)\n",
    "#或运算\n",
    "dst_or = cv2.bitwise_or(src1,src2)\n",
    "print dst_and\n",
    "print dst_or"
   ]
  }
 ],
 "metadata": {
  "kernelspec": {
   "display_name": "Python 2",
   "language": "python",
   "name": "python2"
  },
  "language_info": {
   "codemirror_mode": {
    "name": "ipython",
    "version": 2
   },
   "file_extension": ".py",
   "mimetype": "text/x-python",
   "name": "python",
   "nbconvert_exporter": "python",
   "pygments_lexer": "ipython2",
   "version": "2.7.17"
  }
 },
 "nbformat": 4,
 "nbformat_minor": 2
}
