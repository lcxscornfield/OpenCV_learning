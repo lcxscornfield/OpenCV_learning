{
 "cells": [
  {
   "cell_type": "markdown",
   "metadata": {},
   "source": [
    "0：黑色，255：白色,理解为亮度值；\n",
    "\n",
    "直方图技术法通过选出直方图中的两峰顶间的最小峰谷作为阈值。\n",
    "\n",
    "方法同THRESH_TRIANGLE：三角法是将最高峰顶置于图像亮侧，连接原点与峰顶，选择直方图距离这条连线的最远点就为峰谷，及阈值。"
   ]
  },
  {
   "cell_type": "markdown",
   "metadata": {},
   "source": [
    "原理："
   ]
  },
  {
   "cell_type": "code",
   "execution_count": 6,
   "metadata": {},
   "outputs": [],
   "source": [
    "import numpy as np\n",
    "\n",
    "def calcGrayHist(image):\n",
    "    #灰度图像矩阵的高，宽\n",
    "    rows,cols = image.shape\n",
    "    #存储灰度直方图\n",
    "    grayHist = np.zeros([256],np.uint64)\n",
    "    for r in xrange(rows):\n",
    "        for c in xrange(cols):\n",
    "            grayHist[image[r][c]] +=1 #？这里的列表用法不懂\n",
    "    return grayHist\n",
    "\n",
    "def threshTwoPeaks(image):\n",
    "    #计算灰度直方图\n",
    "    histogram = calcGrayHist(image)\n",
    "    #找最大峰顶\n",
    "    maxLoc = np.where(histogram==np.max(histogram))\n",
    "    firstPeak = maxLoc[0][0]\n",
    "    #寻找第二个峰值对应的灰度值\n",
    "    measureDists = np.zeros([256],np.float32)\n",
    "    for k in xrange(256):\n",
    "        measureDists[k] = pow(k-firstPeak,2)*histogram[k]\n",
    "    maxLoc2 = np.where(measureDists==np.max(measureDists))\n",
    "    secondPeak = maxLoc2[0][0]\n",
    "    #找到两个峰值间的最小值对应的灰度值\n",
    "    thresh = 0 #先给thresh赋值，不然无定义\n",
    "    if firstPeak > secondPeak:\n",
    "        temp = histogram[int(secondPeak):int(firstPeak)]\n",
    "        minLoc = np.where(temp == np.min(temp))\n",
    "        thresh = secondPeak + minLoc[0][0] + 1\n",
    "    else:\n",
    "        temp = histogram[int(firstPeak):int(secondPeak)]\n",
    "        minLoc = np.where(np.min(temp))\n",
    "        thresh = firstPeak + minLoc[0][0] + 1\n",
    "    #找到阈值后，对图像进行阈值化处理\n",
    "    threshImage_out = image.copy()#把src拷贝一份\n",
    "    threshImage_out[threshImage_out>thresh]=255\n",
    "    threshImage_out[threshImage_out<=thresh]=0\n",
    "    return (thresh,threshImage_out)"
   ]
  },
  {
   "cell_type": "code",
   "execution_count": 19,
   "metadata": {
    "scrolled": false
   },
   "outputs": [
    {
     "data": {
      "image/png": "[encoded data removed]",
      "text/plain": [
       "<Figure size 432x288 with 3 Axes>"
      ]
     },
     "metadata": {
      "needs_background": "light"
     },
     "output_type": "display_data"
    }
   ],
   "source": [
    "import cv2\n",
    "import numpy as np\n",
    "import matplotlib.pyplot as plt\n",
    "\n",
    "src = cv2.imread(\"img7.jpg\",0)\n",
    "\n",
    "#otsu\n",
    "the_otsu = 0\n",
    "the_otsu,dst_otsu = cv2.threshold(src,the_otsu,255,8)\n",
    "\n",
    "#triangle\n",
    "the_tra = 0\n",
    "the_tra,dst_tra = cv2.threshold(src,the_tra,255,16)\n",
    "\n",
    "#histogram\n",
    "the_hist = 0\n",
    "the_hist,dst_hist = threshTwoPeaks(src)\n",
    "\n",
    "titles = [\"otsu\",\"tra\",\"histogram\"]\n",
    "images = [dst_otsu,dst_tra,dst_hist]\n",
    "for i in range(3):\n",
    "    plt.subplot(1,3,i+1)\n",
    "    plt.title(titles[i])\n",
    "    plt.imshow(images[i])\n",
    "plt.show()\n"
   ]
  },
  {
   "cell_type": "markdown",
   "metadata": {},
   "source": [
    "讲道理，otsu自动计算的更好"
   ]
  }
 ],
 "metadata": {
  "kernelspec": {
   "display_name": "Python 2",
   "language": "python",
   "name": "python2"
  },
  "language_info": {
   "codemirror_mode": {
    "name": "ipython",
    "version": 2
   },
   "file_extension": ".py",
   "mimetype": "text/x-python",
   "name": "python",
   "nbconvert_exporter": "python",
   "pygments_lexer": "ipython2",
   "version": "2.7.17"
  }
 },
 "nbformat": 4,
 "nbformat_minor": 2
}
