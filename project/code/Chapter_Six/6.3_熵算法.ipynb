{
 "cells": [
  {
   "cell_type": "markdown",
   "metadata": {},
   "source": [
    "熵算法使用信息论的概念，将图像看做信源，来计算灰度级熵，一顿操作猛如虎计算出阈值，我反正没看懂。\n",
    "\n",
    "结果与histogram相近"
   ]
  },
  {
   "cell_type": "code",
   "execution_count": 5,
   "metadata": {},
   "outputs": [
    {
     "name": "stdout",
     "output_type": "stream",
     "text": [
      "95\n"
     ]
    },
    {
     "data": {
      "text/plain": [
       "<function matplotlib.pyplot.show>"
      ]
     },
     "execution_count": 5,
     "metadata": {},
     "output_type": "execute_result"
    },
    {
     "data": {
      "image/png": "[encoded data removed]",
      "text/plain": [
       "<Figure size 432x288 with 1 Axes>"
      ]
     },
     "metadata": {
      "needs_background": "light"
     },
     "output_type": "display_data"
    }
   ],
   "source": [
    "# -*- coding: utf-8 -*-\n",
    "import sys\n",
    "import numpy as np\n",
    "import cv2\n",
    "import math\n",
    "import matplotlib.pyplot as plt\n",
    "#计算图像灰度直方图\n",
    "def calcGrayHist(image):\n",
    "    #灰度图像矩阵的宽高\n",
    "    rows,cols = image.shape\n",
    "    #存储灰度直方图\n",
    "    grayHist = np.zeros([256],np.uint32)\n",
    "    for r in xrange(rows):\n",
    "        for c in xrange(cols):\n",
    "            grayHist[image[r][c]] +=1\n",
    "    return grayHist\n",
    "#熵阈值法\n",
    "def threshEntroy(image):\n",
    "    rows,cols = image.shape\n",
    "    #求灰度直方图\n",
    "    grayHist = calcGrayHist(image)\n",
    "    #归一化灰度直方图\n",
    "    normGrayHist = grayHist/float(rows*cols)\n",
    "    #计算累加直方图，也称零阶累加矩\n",
    "    zeroCumuMoment = np.zeros([256],np.float32)\n",
    "    for k in xrange(256):\n",
    "        if k==0:\n",
    "            zeroCumuMoment[k] = normGrayHist[k]\n",
    "        else:\n",
    "            zeroCumuMoment[k] = zeroCumuMoment[k-1] + normGrayHist[k]\n",
    "    #计算各个灰度级的熵\n",
    "    entropy = np.zeros([256],np.float32)\n",
    "    for k in xrange(256):\n",
    "        if k==0:\n",
    "            if normGrayHist[k] ==0:\n",
    "                entropy[k] = 0\n",
    "            else:\n",
    "                entropy[k] = - normGrayHist[k]*math.log10(normGrayHist[k])\n",
    "        else:\n",
    "            if normGrayHist[k] ==0:\n",
    "                entropy[k] = entropy[k-1]\n",
    "            else:\n",
    "               entropy[k] = entropy[k-1] - normGrayHist[k]*math.log10(normGrayHist[k])\n",
    "    #找阈值\n",
    "    fT = np.zeros([256],np.float32)\n",
    "    ft1,ft2 = 0.0,0.0\n",
    "    totalEntroy = entropy[255]\n",
    "    for k in xrange(255):\n",
    "        #找最大值\n",
    "        maxFront = np.max(normGrayHist[0:k+1])\n",
    "        maxBack = np.max(normGrayHist[k+1:256])\n",
    "        if(maxFront == 0 or zeroCumuMoment[k] == 0 or maxFront==1 or zeroCumuMoment[k]==1 or totalEntroy==0):\n",
    "            ft1 = 0\n",
    "        else:\n",
    "            ft1 =entropy[k]/totalEntroy*(math.log10(zeroCumuMoment[k])/math.log10(maxFront))\n",
    "        if(maxBack == 0 or 1 - zeroCumuMoment[k]==0 or maxBack == 1 or 1-zeroCumuMoment[k] ==1):\n",
    "            ft2 = 0\n",
    "        else:\n",
    "            if totalEntroy==0:\n",
    "                ft2 = (math.log10(1-zeroCumuMoment[k])/math.log10(maxBack))\n",
    "            else:\n",
    "                ft2 = (1-entropy[k]/totalEntroy)*(math.log10(1-zeroCumuMoment[k])/math.log10(maxBack))\n",
    "        fT[k] = ft1+ft2\n",
    "    #找最大值的索引，作为得到的阈值\n",
    "    threshLoc = np.where(fT==np.max(fT))\n",
    "    thresh = threshLoc[0][0]\n",
    "    #阈值处理\n",
    "    threshold = np.copy(image)\n",
    "    threshold[threshold > thresh] = 255\n",
    "    threshold[threshold <= thresh] = 0\n",
    "    return (threshold,thresh)\n",
    "#主函数\n",
    "image = cv2.imread(\"img7.jpg\",0)\n",
    "#阈值处理\n",
    "threshold,thresh = threshEntroy(image);\n",
    "#显示阈值后的二值化图像\n",
    "cv2.imshow(\"threshEntroy\",threshold)\n",
    "print thresh\n",
    "cv2.waitKey(0)\n",
    "cv2.destroyAllWindows()\n",
    "plt.title(\"entroy\")\n",
    "plt.imshow(threshold)\n",
    "plt.show\n"
   ]
  },
  {
   "cell_type": "markdown",
   "metadata": {},
   "source": [
    "效果与histogram直方图法差不多，原理太复杂"
   ]
  }
 ],
 "metadata": {
  "kernelspec": {
   "display_name": "Python 2",
   "language": "python",
   "name": "python2"
  },
  "language_info": {
   "codemirror_mode": {
    "name": "ipython",
    "version": 2
   },
   "file_extension": ".py",
   "mimetype": "text/x-python",
   "name": "python",
   "nbconvert_exporter": "python",
   "pygments_lexer": "ipython2",
   "version": "2.7.17"
  }
 },
 "nbformat": 4,
 "nbformat_minor": 2
}
