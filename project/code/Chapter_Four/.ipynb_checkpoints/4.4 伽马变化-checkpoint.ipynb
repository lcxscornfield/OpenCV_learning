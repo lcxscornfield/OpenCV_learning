{
 "cells": [
  {
   "cell_type": "markdown",
   "metadata": {},
   "source": [
    "伽马变化，将灰度值归一化到[0,1]范围后，构造O(r,c)=I(r,c)^γ\n",
    "\n",
    "np.power(I,a) 即为I^a"
   ]
  },
  {
   "cell_type": "code",
   "execution_count": 4,
   "metadata": {},
   "outputs": [],
   "source": [
    "# -*- coding: utf-8 -*-\n",
    "import cv2\n",
    "import numpy as np\n",
    "import sys\n",
    "\n",
    "image = cv2.imread(\"E:\\project\\opencv\\project\\code\\Chapter_Four\\img1.jpg\",cv2.IMREAD_GRAYSCALE)\n",
    "#灰度归一化\n",
    "fI = image/255.0\n",
    "#伽马变换\n",
    "gamma = 0.5\n",
    "O = np.power(fI,gamma)\n",
    "\n",
    "cv2.imshow(\"InputImage\",image)\n",
    "cv2.imshow(\"OutputImage\",O)\n",
    "cv2.waitKey()\n",
    "cv2.destroyAllWindows()"
   ]
  },
  {
   "cell_type": "markdown",
   "metadata": {},
   "source": [
    "我认为，0 < gama < 1，对比度降低；1 < gama对比度升高"
   ]
  }
 ],
 "metadata": {
  "kernelspec": {
   "display_name": "Python 2",
   "language": "python",
   "name": "python2"
  },
  "language_info": {
   "codemirror_mode": {
    "name": "ipython",
    "version": 2
   },
   "file_extension": ".py",
   "mimetype": "text/x-python",
   "name": "python",
   "nbconvert_exporter": "python",
   "pygments_lexer": "ipython2",
   "version": "2.7.17"
  }
 },
 "nbformat": 4,
 "nbformat_minor": 2
}
