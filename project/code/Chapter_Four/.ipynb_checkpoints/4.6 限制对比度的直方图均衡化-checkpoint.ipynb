{
 "cells": [
  {
   "cell_type": "markdown",
   "metadata": {},
   "source": [
    "4.5（无代码）介绍了直方图均衡化处理将像素点的亮度值平均。但会造成噪点。\n",
    "\n",
    "故介绍4.6限制对比度的直方图均衡化函数：\n",
    "\n",
    "cv2.createCLAHE(clipLimit,tileGrideSize)\n",
    "\n",
    "clipLimit:限制对比度；tileGrideSize:区域块大小"
   ]
  },
  {
   "cell_type": "code",
   "execution_count": 4,
   "metadata": {},
   "outputs": [
    {
     "data": {
      "text/plain": [
       "<function matplotlib.pyplot.show>"
      ]
     },
     "execution_count": 4,
     "metadata": {},
     "output_type": "execute_result"
    },
    {
     "data": {
      "image/png": "[encoded data removed]",
      "text/plain": [
       "<Figure size 432x288 with 1 Axes>"
      ]
     },
     "metadata": {
      "needs_background": "light"
     },
     "output_type": "display_data"
    }
   ],
   "source": [
    "# -*- coding: utf-8 -*-\n",
    "import cv2\n",
    "import numpy as np\n",
    "\n",
    "src = cv2.imread(\"E:\\project\\opencv\\project\\code\\Chapter_Four\\img1.jpg\",0)\n",
    "\n",
    "clahe = cv2.createCLAHE(clipLimit=10.0,tileGridSize=(8,8))\n",
    "dst = clahe.apply(src)\n",
    "\n",
    "cv2.imshow(\"src\",src)\n",
    "cv2.imshow(\"dst\",dst)\n",
    "cv2.waitKey(0)\n",
    "cv2.destroyAllWindows()\n",
    "\n",
    "#绘制直方图\n",
    "import matplotlib.pyplot as plt\n",
    "rows,cols = src.shape\n",
    "#2维变1维\n",
    "ps = src.reshape([rows*cols,])\n",
    "psout = dst.reshape([rows*cols,])\n",
    "bins = 256\n",
    "histogram,bins,patch = plt.hist(ps,bins,facecolor='black')\n",
    "histogram,bins,patch = plt.hist(psout,bins,facecolor='green')\n",
    "plt.show"
   ]
  },
  {
   "cell_type": "markdown",
   "metadata": {},
   "source": [
    "直方图被均衡了\n",
    "\n",
    "至此，对比度增强方法结束，对比度拉伸方法产生的噪点去除方法将在下章介绍"
   ]
  }
 ],
 "metadata": {
  "kernelspec": {
   "display_name": "Python 2",
   "language": "python",
   "name": "python2"
  },
  "language_info": {
   "codemirror_mode": {
    "name": "ipython",
    "version": 2
   },
   "file_extension": ".py",
   "mimetype": "text/x-python",
   "name": "python",
   "nbconvert_exporter": "python",
   "pygments_lexer": "ipython2",
   "version": "2.7.17"
  }
 },
 "nbformat": 4,
 "nbformat_minor": 2
}
