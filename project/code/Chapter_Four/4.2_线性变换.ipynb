{
 "cells": [
  {
   "cell_type": "markdown",
   "metadata": {},
   "source": [
    "输入图像为I，宽为W，高为H，输出图像为O，\n",
    "\n",
    "O(r,c) = a*I(r,c)+b,0<=r<H,0<=c<w\n",
    "\n",
    "a改变图像对比度，b改变图像亮度值"
   ]
  },
  {
   "cell_type": "code",
   "execution_count": 9,
   "metadata": {},
   "outputs": [
    {
     "data": {
      "text/plain": [
       "(array([[  0., 400.],\n",
       "        [ 46.,   8.]]), array([[  0, 144],\n",
       "        [ 46,   8]], dtype=uint8))"
      ]
     },
     "execution_count": 9,
     "metadata": {},
     "output_type": "execute_result"
    }
   ],
   "source": [
    "import numpy as np\n",
    "I = np.array([[0,200],[23,4]],np.uint8)\n",
    "O1 = 2.0*I #2.0将结果改为浮点数类型\n",
    "O2 = 2*I #仍然使用uint8类型的结果两者显然不同\n",
    "O1,O2"
   ]
  },
  {
   "cell_type": "markdown",
   "metadata": {},
   "source": [
    "对于8位图来说，要将数值截断在255，上面方法中简单粗暴使用* 运算符是无法达到的。故通过以下代码来实现"
   ]
  },
  {
   "cell_type": "code",
   "execution_count": 27,
   "metadata": {},
   "outputs": [],
   "source": [
    "# -*- coding:utf-8 -*-\n",
    "import cv2\n",
    "import numpy as np\n",
    "import sys\n",
    "\n",
    "image = cv2.imread(\"E:\\project\\opencv\\project\\code\\Chapter_Four\\img1.jpg\",cv2.IMREAD_GRAYSCALE)\n",
    "a = 2\n",
    "O=float(a)*image\n",
    "#数据截断，超过255截断为255\n",
    "O[O>255]=255\n",
    "#数据类型转换\n",
    "O = np.round(O)\n",
    "O = O.astype(np.uint8)\n",
    "#显示原图和线性变换后的效果\n",
    "cv2.imshow(\"InputImage\",image)\n",
    "cv2.imshow(\"OutputImage\",O)\n",
    "cv2.waitKey(0)\n",
    "cv2.destroyAllWindows()\n"
   ]
  },
  {
   "cell_type": "markdown",
   "metadata": {},
   "source": [
    "看下直方图变化"
   ]
  },
  {
   "cell_type": "code",
   "execution_count": 28,
   "metadata": {},
   "outputs": [
    {
     "data": {
      "image/png": "[encoded data removed]",
      "text/plain": [
       "<Figure size 432x288 with 1 Axes>"
      ]
     },
     "metadata": {
      "needs_background": "light"
     },
     "output_type": "display_data"
    }
   ],
   "source": [
    "#绘制Input与Output的直方图\n",
    "import matplotlib.pyplot as plt\n",
    "\n",
    "def calcgrayHist(image):\n",
    "    rows,cols = image.shape\n",
    "    grayHist = np.zeros([256],np.uint64)\n",
    "    for r in xrange(rows):\n",
    "        for c in xrange(cols):\n",
    "            grayHist[image[r][c]] +=1\n",
    "    return grayHist\n",
    "\n",
    "InputgrayHist = calcgrayHist(image)\n",
    "OutputgrayHist = calcgrayHist(O)\n",
    "x_range = range(256)\n",
    "\n",
    "plt.plot(x_range,InputgrayHist,'r',linewidth =2,c='black')\n",
    "plt.plot(x_range,OutputgrayHist,'r',linewidth =2,c='red')\n",
    "\n",
    "y_maxValue = np.max(grayHist)\n",
    "plt.axis([0,255,0,y_maxValue])\n",
    "plt.xlabel('gray Level')\n",
    "plt.ylabel('number of pixels')\n",
    "plt.show()"
   ]
  },
  {
   "cell_type": "markdown",
   "metadata": {},
   "source": [
    "灰度图像图中的数值放大了两倍，对比度增大，并在255处作为截断。"
   ]
  }
 ],
 "metadata": {
  "kernelspec": {
   "display_name": "Python 2",
   "language": "python",
   "name": "python2"
  },
  "language_info": {
   "codemirror_mode": {
    "name": "ipython",
    "version": 2
   },
   "file_extension": ".py",
   "mimetype": "text/x-python",
   "name": "python",
   "nbconvert_exporter": "python",
   "pygments_lexer": "ipython2",
   "version": "2.7.17"
  }
 },
 "nbformat": 4,
 "nbformat_minor": 2
}
