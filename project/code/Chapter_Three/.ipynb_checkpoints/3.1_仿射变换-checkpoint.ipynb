{
 "cells": [
  {
   "cell_type": "markdown",
   "metadata": {},
   "source": [
    "计算坐标点（40,50）为中心逆时针旋转30°仿射变换矩阵"
   ]
  },
  {
   "cell_type": "code",
   "execution_count": 16,
   "metadata": {},
   "outputs": [
    {
     "data": {
      "text/plain": [
       "array([[ 0.8660254,  0.5      , 40.       ],\n",
       "       [-0.5      ,  0.8660254, 50.       ],\n",
       "       [ 0.       ,  0.       ,  1.       ]], dtype=float32)"
      ]
     },
     "execution_count": 16,
     "metadata": {},
     "output_type": "execute_result"
    }
   ],
   "source": [
    "import numpy as np\n",
    "import math\n",
    "t = np.array([[1,0,40],[0,1,50],[0,0,1]],np.float32)\n",
    "r = np.array([[math.cos(math.pi/6),math.sin(math.pi/6),0],[-math.sin(math.pi/6),math.cos(math.pi/6),0],[0,0,1]],np.float32)\n",
    "A = np.dot(t,r)\n",
    "A"
   ]
  },
  {
   "cell_type": "markdown",
   "metadata": {},
   "source": [
    "三角函数表示太过冗余，想简化\n",
    "\n",
    "利用矩阵法"
   ]
  },
  {
   "cell_type": "code",
   "execution_count": 17,
   "metadata": {},
   "outputs": [
    {
     "data": {
      "text/plain": [
       "array([[  0.8660254 ,   0.5       , -19.64101615],\n",
       "       [ -0.5       ,   0.8660254 ,  26.69872981]])"
      ]
     },
     "execution_count": 17,
     "metadata": {},
     "output_type": "execute_result"
    }
   ],
   "source": [
    "import cv2\n",
    "A = cv2.getRotationMatrix2D((40,50),30,1)\n",
    "A"
   ]
  },
  {
   "cell_type": "markdown",
   "metadata": {},
   "source": [
    "Q:为什么第3列的数值不同？"
   ]
  },
  {
   "cell_type": "markdown",
   "metadata": {},
   "source": [
    "python实现一系列图像变换操作，在已知仿射变换矩阵时， OpenCV提供函数实图像的仿射变换\n",
    "\n",
    "cv2.warpAffine(src,M,dsize[, dst[, flags[, borderMode[, borderValue ]]]])"
   ]
  },
  {
   "cell_type": "code",
   "execution_count": null,
   "metadata": {},
   "outputs": [],
   "source": [
    "# -*- coding: utf-8 -*-\n",
    "import cv2\n",
    "import numpy as np\n",
    "import sys\n",
    "#主函数\n",
    "if __name__ == \"__main__\":\n",
    "    image = cv2.imread(\"E:/project/opencv/project/code/Chapter_Three/img.jpg\",cv2.IMREAD_GRAYSCALE)\n",
    "    cv2.imwrite(\"img.jpg\",image)\n",
    "    \n",
    "    #原图的高宽\n",
    "    h,w=image.shape[:2]\n",
    "    #仿射变换矩阵，缩小两倍\n",
    "    A1 = np.array([[0.5,0,0],[0,0.5,0]],np.float32)\n",
    "    d1 = cv2.warpAffine(image,A1,(w,h),borderValue=125)\n",
    "    #先缩小2倍再平移\n",
    "    A2 = np.array([[0.5,0,w/4],[0,0.5,h/4]],np.float32)\n",
    "    d2 = cv2.warpAffine(image,A2,(w,h),borderValue=125)\n",
    "    #在d2基础上，绕图像的中心点逆时针旋转30度\n",
    "    A3 = cv2.getRotationMatrix2D((w/2.0,h/2.0),30,1)\n",
    "    d3 = cv2.warpAffine(d2,A3,(w,h),borderValue=125)\n",
    "    cv2.imshow(\"image\",image)\n",
    "    cv2.imshow(\"d1\",d1)\n",
    "    cv2.imshow(\"d2\",d2)\n",
    "    cv2.imshow(\"d3\",d3)\n",
    "    cv2.waitKey(0)\n",
    "    cv2.destroyAllWindows()"
   ]
  },
  {
   "cell_type": "code",
   "execution_count": null,
   "metadata": {},
   "outputs": [],
   "source": []
  }
 ],
 "metadata": {
  "kernelspec": {
   "display_name": "Python 2",
   "language": "python",
   "name": "python2"
  },
  "language_info": {
   "codemirror_mode": {
    "name": "ipython",
    "version": 2
   },
   "file_extension": ".py",
   "mimetype": "text/x-python",
   "name": "python",
   "nbconvert_exporter": "python",
   "pygments_lexer": "ipython2",
   "version": "2.7.17"
  }
 },
 "nbformat": 4,
 "nbformat_minor": 2
}
