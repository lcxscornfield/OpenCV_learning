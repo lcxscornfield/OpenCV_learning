{
 "cells": [
  {
   "cell_type": "markdown",
   "metadata": {},
   "source": [
    "计算坐标点（40,50）为中心逆时针旋转30°仿射变换矩阵"
   ]
  },
  {
   "cell_type": "code",
   "execution_count": 1,
   "metadata": {},
   "outputs": [
    {
     "data": {
      "text/plain": [
       "array([[ 0.8660254,  0.5      , 40.       ],\n",
       "       [-0.5      ,  0.8660254, 50.       ],\n",
       "       [ 0.       ,  0.       ,  1.       ]], dtype=float32)"
      ]
     },
     "execution_count": 1,
     "metadata": {},
     "output_type": "execute_result"
    }
   ],
   "source": [
    "import numpy as np\n",
    "import math\n",
    "t = np.array([[1,0,40],[0,1,50],[0,0,1]],np.float32)\n",
    "r = np.array([[math.cos(math.pi/6),math.sin(math.pi/6),0],[-math.sin(math.pi/6),math.cos(math.pi/6),0],[0,0,1]],np.float32)\n",
    "A = np.dot(t,r)\n",
    "A"
   ]
  },
  {
   "cell_type": "markdown",
   "metadata": {},
   "source": [
    "三角函数表示太过冗余，想简化\n",
    "\n",
    "利用矩阵法"
   ]
  },
  {
   "cell_type": "code",
   "execution_count": 2,
   "metadata": {},
   "outputs": [
    {
     "data": {
      "text/plain": [
       "array([[  0.8660254 ,   0.5       , -19.64101615],\n",
       "       [ -0.5       ,   0.8660254 ,  26.69872981]])"
      ]
     },
     "execution_count": 2,
     "metadata": {},
     "output_type": "execute_result"
    }
   ],
   "source": [
    "import cv2\n",
    "A = cv2.getRotationMatrix2D((40,50),30,1)\n",
    "A"
   ]
  },
  {
   "cell_type": "markdown",
   "metadata": {},
   "source": [
    "Q:为什么第3列的数值不同？"
   ]
  },
  {
   "cell_type": "markdown",
   "metadata": {},
   "source": [
    "python实现一系列图像变换操作，在已知仿射变换矩阵时， OpenCV提供函数实图像的仿射变换\n",
    "\n",
    "cv2.warpAffine(src,M,dsize[, dst[, flags[, borderMode[, borderValue ]]]])"
   ]
  },
  {
   "cell_type": "code",
   "execution_count": 3,
   "metadata": {},
   "outputs": [],
   "source": [
    "# -*- coding: utf-8 -*-\n",
    "import cv2\n",
    "import numpy as np\n",
    "import sys\n",
    "#主函数\n",
    "if __name__ == \"__main__\":\n",
    "    image = cv2.imread(\"E:/project/opencv/project/code/Chapter_Three/img.jpg\",cv2.IMREAD_GRAYSCALE)\n",
    "    cv2.imwrite(\"img.jpg\",image)\n",
    "    \n",
    "    #原图的高宽\n",
    "    h,w=image.shape[:2]\n",
    "    #仿射变换矩阵，缩小两倍\n",
    "    A1 = np.array([[0.5,0,0],[0,0.5,0]],np.float32)\n",
    "    d1 = cv2.warpAffine(image,A1,(w,h),borderValue=125)\n",
    "    #先缩小2倍再平移\n",
    "    A2 = np.array([[0.5,0,w/4],[0,0.5,h/4]],np.float32)\n",
    "    d2 = cv2.warpAffine(image,A2,(w,h),borderValue=200) #borderValue代表变换后空白区域灰度值\n",
    "    #在d2基础上，绕图像的中心点逆时针旋转30度\n",
    "    A3 = cv2.getRotationMatrix2D((w/2.0,h/2.0),30,1)\n",
    "    d3 = cv2.warpAffine(d2,A3,(w,h),borderValue=255)\n",
    "    cv2.imshow(\"image\",image)\n",
    "    cv2.imshow(\"d1\",d1)\n",
    "    cv2.imshow(\"d2\",d2)\n",
    "    cv2.imshow(\"d3\",d3)\n",
    "    cv2.waitKey(0)\n",
    "    cv2.destroyAllWindows()"
   ]
  },
  {
   "cell_type": "markdown",
   "metadata": {},
   "source": [
    "cv3.X中的rotate函x的rotate函数\n",
    "\n",
    "利用cv2.rotate实现图像的旋转：\n",
    "\n",
    "    cv2.ROTATE_90_CLOCKWISE:顺时针旋转90度\n",
    "\n",
    "    cv2.ROTATE_180：顺时针旋转180度\n",
    "\n",
    "    cv2.ROTATE_90_COUNTERCLOCKWISE：逆时针90度"
   ]
  },
  {
   "cell_type": "code",
   "execution_count": 2,
   "metadata": {},
   "outputs": [],
   "source": [
    "# -*-  coding: utf-8 -*-\n",
    "import cv2\n",
    "import sys\n",
    "#主函数\n",
    "if __name__ == \"__main__\":\n",
    "    image = cv2.imread(r\"E:\\project\\opencv\\project\\code\\Chapter_Three\\img.jpg\",cv2.IMREAD_GRAYSCALE)\n",
    "    #显示原图\n",
    "    cv2.imshow(\"image\",image)\n",
    "    #图像旋转\n",
    "    rimage_270 = cv2.rotate(image,cv2.ROTATE_90_COUNTERCLOCKWISE)\n",
    "    rimage_90 = cv2.rotate(image,cv2.ROTATE_90_CLOCKWISE)\n",
    "    rimage_180 = cv2.rotate(image,cv2.ROTATE_180)\n",
    "    #显示结果\n",
    "    cv2.imshow(\"90\",rimage_90)\n",
    "    cv2.imshow(\"180\",rimage_180)\n",
    "    cv2.imshow(\"270\",rimage_270)\n",
    "    cv2.waitKey(0)\n",
    "    cv2.destroyAllWindows()"
   ]
  },
  {
   "cell_type": "code",
   "execution_count": null,
   "metadata": {},
   "outputs": [],
   "source": []
  }
 ],
 "metadata": {
  "kernelspec": {
   "display_name": "Python 2",
   "language": "python",
   "name": "python2"
  },
  "language_info": {
   "codemirror_mode": {
    "name": "ipython",
    "version": 2
   },
   "file_extension": ".py",
   "mimetype": "text/x-python",
   "name": "python",
   "nbconvert_exporter": "python",
   "pygments_lexer": "ipython2",
   "version": "2.7.17"
  }
 },
 "nbformat": 4,
 "nbformat_minor": 2
}
