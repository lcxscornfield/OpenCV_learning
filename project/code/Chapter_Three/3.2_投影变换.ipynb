{
 "cells": [
  {
   "cell_type": "markdown",
   "metadata": {},
   "source": [
    "四组对应坐标变换，数据类型必须float32\n",
    "cv2.getPerspectiveTransform(src,dst)"
   ]
  },
  {
   "cell_type": "code",
   "execution_count": 3,
   "metadata": {},
   "outputs": [
    {
     "data": {
      "text/plain": [
       "array([[ 5.00000000e-01, -3.75000000e-01,  1.00000000e+02],\n",
       "       [ 3.88578059e-16,  7.50000000e-02,  2.00000000e+01],\n",
       "       [ 9.54097912e-18, -2.50000000e-03,  1.00000000e+00]])"
      ]
     },
     "execution_count": 3,
     "metadata": {},
     "output_type": "execute_result"
    }
   ],
   "source": [
    "import cv2\n",
    "src = np.array([[0,0],[200,0],[0,200],[200,200]],np.float32)\n",
    "dst = np.array([[100,20],[200,20],[50,70],[250,70]],np.float32)\n",
    "A = cv2.getPerspectiveTransform(src,dst)\n",
    "A"
   ]
  },
  {
   "cell_type": "code",
   "execution_count": 11,
   "metadata": {},
   "outputs": [],
   "source": [
    "# -*- coding: utf-8 -*-\n",
    "import numpy as np\n",
    "import cv2\n",
    "\n",
    "image = cv2.imread(\"E:/project/opencv/project/code/Chapter_Three/img.jpg\",cv2.IMREAD_GRAYSCALE)\n",
    "h,w = image.shape\n",
    "src = np.array([[0,0],[w,0],[0,h],[w,h]],np.float32)\n",
    "dst = np.array([[50,50],[w/3,50],[50,h],[w,h]],np. float32)\n",
    "\n",
    "#计算投影矩阵\n",
    "p = cv2.getPerspectiveTransform(src,dst)\n",
    "#根据投影矩阵将图像进行投影变换\n",
    "r = cv2.warpPerspective(image,p,(w,h),borderValue=125)\n",
    "#显示原图和投影效果\n",
    "cv2.imshow(\"image\",image)\n",
    "cv2.imshow(\"warpPerspective\",r)\n",
    "cv2.waitKey(0)\n",
    "cv2.destroyAllWindows()\n"
   ]
  },
  {
   "cell_type": "code",
   "execution_count": null,
   "metadata": {},
   "outputs": [],
   "source": []
  }
 ],
 "metadata": {
  "kernelspec": {
   "display_name": "Python 2",
   "language": "python",
   "name": "python2"
  },
  "language_info": {
   "codemirror_mode": {
    "name": "ipython",
    "version": 2
   },
   "file_extension": ".py",
   "mimetype": "text/x-python",
   "name": "python",
   "nbconvert_exporter": "python",
   "pygments_lexer": "ipython2",
   "version": "2.7.17"
  }
 },
 "nbformat": 4,
 "nbformat_minor": 2
}
