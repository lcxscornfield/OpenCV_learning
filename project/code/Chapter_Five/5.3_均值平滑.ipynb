{
 "cells": [
  {
   "cell_type": "markdown",
   "metadata": {},
   "source": [
    "均值平滑计算点领域的平均值，利用图像积分实现快速均值平滑，比高斯计算快一些？高斯平滑利用高斯滤波器进行滤波平滑。"
   ]
  },
  {
   "cell_type": "code",
   "execution_count": 19,
   "metadata": {},
   "outputs": [],
   "source": [
    "import numpy as np\n",
    "import cv2\n",
    "\n",
    "image = cv2.imread(\"img3.jpg\",0)\n",
    "#均值平滑\n",
    "dst = cv2.blur(image,(10,10))\n",
    "cv2.imshow(\"src\",image)\n",
    "cv2.imshow(\"dst\",dst)\n",
    "cv2.waitKey(0)\n",
    "cv2.destroyAllWindows()"
   ]
  },
  {
   "cell_type": "markdown",
   "metadata": {},
   "source": [
    "原理部分"
   ]
  },
  {
   "cell_type": "code",
   "execution_count": 5,
   "metadata": {},
   "outputs": [
    {
     "ename": "NameError",
     "evalue": "name 'cv2' is not defined",
     "output_type": "error",
     "traceback": [
      "\u001b[1;31m---------------------------------------------------------------------------\u001b[0m",
      "\u001b[1;31mNameError\u001b[0m                                 Traceback (most recent call last)",
      "\u001b[1;32m<ipython-input-5-e34de4d818f1>\u001b[0m in \u001b[0;36m<module>\u001b[1;34m()\u001b[0m\n\u001b[0;32m     25\u001b[0m \u001b[1;31m#构建均值平滑函数fastMeanBlur,滑动窗口winSize均为奇数\u001b[0m\u001b[1;33m\u001b[0m\u001b[1;33m\u001b[0m\u001b[0m\n\u001b[0;32m     26\u001b[0m \u001b[1;31m#borderType边界扩充类型补零操作会造成黑色边界。理想扩充类型为镜像扩充\u001b[0m\u001b[1;33m\u001b[0m\u001b[1;33m\u001b[0m\u001b[0m\n\u001b[1;32m---> 27\u001b[1;33m \u001b[1;32mdef\u001b[0m \u001b[0mfastMeanBlur\u001b[0m\u001b[1;33m(\u001b[0m\u001b[0mimage\u001b[0m\u001b[1;33m,\u001b[0m\u001b[0mwinSize\u001b[0m\u001b[1;33m,\u001b[0m\u001b[0mborderType\u001b[0m \u001b[1;33m=\u001b[0m \u001b[0mcv2\u001b[0m\u001b[1;33m.\u001b[0m\u001b[0mBORDER_DEFAULT\u001b[0m\u001b[1;33m)\u001b[0m\u001b[1;33m:\u001b[0m\u001b[1;33m\u001b[0m\u001b[0m\n\u001b[0m\u001b[0;32m     28\u001b[0m     \u001b[0mhalfH\u001b[0m \u001b[1;33m=\u001b[0m \u001b[1;33m(\u001b[0m\u001b[0mwinSize\u001b[0m\u001b[1;33m[\u001b[0m\u001b[1;36m0\u001b[0m\u001b[1;33m]\u001b[0m\u001b[1;33m-\u001b[0m\u001b[1;36m1\u001b[0m\u001b[1;33m)\u001b[0m\u001b[1;33m/\u001b[0m\u001b[1;36m2\u001b[0m\u001b[1;33m\u001b[0m\u001b[0m\n\u001b[0;32m     29\u001b[0m     \u001b[0mhalfW\u001b[0m \u001b[1;33m=\u001b[0m \u001b[1;33m(\u001b[0m\u001b[0mwinSize\u001b[0m\u001b[1;33m[\u001b[0m\u001b[1;36m1\u001b[0m\u001b[1;33m]\u001b[0m\u001b[1;33m-\u001b[0m\u001b[1;36m1\u001b[0m\u001b[1;33m)\u001b[0m\u001b[1;33m/\u001b[0m\u001b[1;36m2\u001b[0m\u001b[1;33m\u001b[0m\u001b[0m\n",
      "\u001b[1;31mNameError\u001b[0m: name 'cv2' is not defined"
     ]
    }
   ],
   "source": [
    "\n",
    "def integral(image):\n",
    "    rows,cols = image.shape\n",
    "    #行积分计算\n",
    "    inteImageC = np.zeros((rows,clos),np.float32)\n",
    "    for r in xrange(rows):\n",
    "        for c in xrange(cols):\n",
    "            if c == 0:\n",
    "                inteImageC[r][c] = image[r][c]\n",
    "            else:\n",
    "                inteImageC[r][c] = inteImageC[r][c-1] + image[r][c]\n",
    "    #列积分计算\n",
    "    inteImage = np.zeros(image.shape,np.float32)\n",
    "    for c in xrange(cols):\n",
    "        for r in xrange(rows):\n",
    "            if r == 0:\n",
    "                inteImage[r][c] = inteImageC[r][c]\n",
    "            else:\n",
    "                inteImage[r][c] = inteImage[r-1][c] + inteImageC[r][c]\n",
    "    #对上边，左边进行补零操作，省去平滑中判断边界问题\n",
    "    inteImage_0 = np.zeros((rows+1,cols+1),np.float32)\n",
    "    inteImage_0[1:rows+1,1:cols+1] = inteImage\n",
    "    return inteImage_0\n",
    "\n",
    "#构建均值平滑函数fastMeanBlur,滑动窗口winSize均为奇数\n",
    "#borderType边界扩充类型补零操作会造成黑色边界。理想扩充类型为镜像扩充\n",
    "def fastMeanBlur(image,winSize,borderType = cv2.BORDER_DEFAULT):\n",
    "    halfH = (winSize[0]-1)/2\n",
    "    halfW = (winSize[1]-1)/2\n",
    "    ratio = 1.0/(winSize[0]*winSize[1])\n",
    "    #边界扩充\n",
    "    paddImage = cv2.copyMakeBorder(image,halfH,halfH,halfW,halfW,borderType)\n",
    "    #图像积分\n",
    "    paddIntegral = integral(paddImage)\n",
    "    #图像的高、宽\n",
    "    rows,cols = image.shape\n",
    "    #均值滤波后的结果\n",
    "    meanBlurImage = np.zeros(image.shape,np.float32)\n",
    "    r,c = 0,0\n",
    "    for h in range(halfH,halfH+rows,1):\n",
    "        for w in range(halfW,halfW+cols,1):\n",
    "            meanBlurImage[r][c]=(paddIntegral[h+halfH+1][w+halfW+1]+paddIntegral[h-halfH][w-halfW]-paddIntegral[h+halfH+1][w-halfW]-paddIntegral[h-halfH][w+halfW+1])*ratio\n",
    "            c+=1\n",
    "        r+=1\n",
    "        c=0\n",
    "    return meanBlurImage"
   ]
  }
 ],
 "metadata": {
  "kernelspec": {
   "display_name": "Python 2",
   "language": "python",
   "name": "python2"
  },
  "language_info": {
   "codemirror_mode": {
    "name": "ipython",
    "version": 2
   },
   "file_extension": ".py",
   "mimetype": "text/x-python",
   "name": "python",
   "nbconvert_exporter": "python",
   "pygments_lexer": "ipython2",
   "version": "2.7.17"
  }
 },
 "nbformat": 4,
 "nbformat_minor": 2
}
