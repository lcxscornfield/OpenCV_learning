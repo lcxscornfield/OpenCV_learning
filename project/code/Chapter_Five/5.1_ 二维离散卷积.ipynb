{
 "cells": [
  {
   "cell_type": "markdown",
   "metadata": {},
   "source": [
    "二维离散卷积运算，使用scipy库中的signal.convolve2d函数\n",
    "\n",
    "SciPy函数库在NumPy库的基础上增加了线性代数、常微分方程数值求解、信号处理、图像处理、稀疏矩阵等等"
   ]
  },
  {
   "cell_type": "code",
   "execution_count": 4,
   "metadata": {},
   "outputs": [],
   "source": [
    "# -*- coding: utf-8 -*-\n",
    "import numpy as np\n",
    "from scipy import signal\n",
    "\n",
    "I = np.array([[1,2],[3,4]],np.float32)\n",
    "#高宽\n",
    "H1,W1 = I.shape[:2]\n",
    "#卷积核\n",
    "K = np.array([[-1,-2],[2,1]],np.float32)\n",
    "#K的高和宽\n",
    "H2,W2 = K.shape[:2]\n",
    "\n",
    "#计算full卷积\n",
    "c_full = signal.convolve2d(I,K,mode='full')\n",
    "#指定锚点位置\n",
    "kr,kc = 0,0\n",
    "#根据锚点位置，从full卷积中截取得到same卷积\n",
    "c_same = c_full[H2-kr-1:H1+H2-kr-1,W2-kc-1:W1+W2-kc-1]"
   ]
  },
  {
   "cell_type": "markdown",
   "metadata": {},
   "source": [
    "5.1.2 可分离卷积\n",
    "\n",
    "一个卷积核可由多个小的卷积核full卷积而成，边界均进行扩充零操作。"
   ]
  },
  {
   "cell_type": "code",
   "execution_count": 9,
   "metadata": {},
   "outputs": [
    {
     "name": "stdout",
     "output_type": "stream",
     "text": [
      "[[ 4.  8. 12.]\n",
      " [ 5. 10. 15.]\n",
      " [ 6. 12. 18.]]\n"
     ]
    }
   ],
   "source": [
    "# -*- coding: utf-8 -*-\n",
    "import numpy as np\n",
    "from scipy import signal\n",
    "\n",
    "kernel1 = np.array([[1,2,3]],np.float32)\n",
    "kernel2 = np.array([[4],[5],[6]],np.float32)\n",
    "\n",
    "kernel = signal.convolve2d(kernel1,kernel2,mode='full')\n",
    "print kernel"
   ]
  },
  {
   "cell_type": "code",
   "execution_count": null,
   "metadata": {},
   "outputs": [],
   "source": []
  }
 ],
 "metadata": {
  "kernelspec": {
   "display_name": "Python 2",
   "language": "python",
   "name": "python2"
  },
  "language_info": {
   "codemirror_mode": {
    "name": "ipython",
    "version": 2
   },
   "file_extension": ".py",
   "mimetype": "text/x-python",
   "name": "python",
   "nbconvert_exporter": "python",
   "pygments_lexer": "ipython2",
   "version": "2.7.17"
  }
 },
 "nbformat": 4,
 "nbformat_minor": 2
}
