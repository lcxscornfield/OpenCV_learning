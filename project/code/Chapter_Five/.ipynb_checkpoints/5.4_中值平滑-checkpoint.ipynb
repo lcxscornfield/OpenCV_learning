{
 "cells": [
  {
   "cell_type": "markdown",
   "metadata": {},
   "source": [
    "中值滤波(cv2.medianBlur)原理：对领域按像素点灰度值排序取中值输出。\n",
    "\n",
    "作用：去除椒盐噪声（噪点），一定的保边作用（保留锐利）"
   ]
  },
  {
   "cell_type": "code",
   "execution_count": 23,
   "metadata": {},
   "outputs": [],
   "source": [
    "import cv2\n",
    "image = cv2.imread(\"img1.png\",0)\n",
    "dst = cv2.medianBlur(image,5)\n",
    "cv2.imshow(\"image\",image)\n",
    "cv2.imshow(\"dst\",dst)\n",
    "cv2.waitKey(0)\n",
    "cv2.destroyAllWindows()"
   ]
  },
  {
   "cell_type": "markdown",
   "metadata": {},
   "source": [
    "原理：\n",
    "\n",
    "给图像添加噪声,number为噪声数"
   ]
  },
  {
   "cell_type": "code",
   "execution_count": 25,
   "metadata": {},
   "outputs": [],
   "source": [
    "def salt(image,number):\n",
    "    rows,cols = image.shape\n",
    "    saltImage = np.copy(image)\n",
    "    for i in xrange(number):\n",
    "        randR = random.randint(0,rows-1)\n",
    "        randC = random.randint(0,cols-1)\n",
    "        saltImage[randR][randC] = 255\n",
    "    return saltImage"
   ]
  },
  {
   "cell_type": "markdown",
   "metadata": {},
   "source": [
    "构造中值滤波函数"
   ]
  },
  {
   "cell_type": "code",
   "execution_count": 21,
   "metadata": {},
   "outputs": [],
   "source": [
    "import numpy as np\n",
    "import cv2\n",
    "import random\n",
    "\n",
    "image = cv2.imread(\"img1.png\",0)\n",
    "#加点噪点\n",
    "image = salt(image,255)\n",
    "cv2.imshow(\"image\",image)\n",
    "\n",
    "def medianBlur(image,winSize):\n",
    "    rows,cols = image.shape\n",
    "    winH,winW = winSize\n",
    "    halfWinH = (winH-1)/2\n",
    "    halfWinW = (winW-1)/2\n",
    "    #中值滤波后的输出函数\n",
    "    medianBlurImage = np.zeros(image.shape,image.dtype)\n",
    "    for r in xrange(rows):\n",
    "        for c in xrange(cols):\n",
    "            #判断边界\n",
    "            rTop = 0 if r-halfWinH < 0 else r-halfWinH\n",
    "            rBottom=rows-1 if r+halfWinH > rows-1 else r+halfWinH\n",
    "            cLeft = 0 if c-halfWinW < 0 else c-halfWinW\n",
    "            cRight = cols-1 if c+halfWinW > cols-1 else c+halfWinW\n",
    "            #取领域\n",
    "            region = image[rTop:rBottom+1,cLeft:cRight+1]#区间左闭右开\n",
    "            #取中值\n",
    "            medianBlurImage[r][c] = np.median(region)\n",
    "    return medianBlurImage\n",
    "\n",
    "\n",
    "medianBlurImage = medianBlur(image,(15,15))\n",
    "cv2.imshow(\"medianBlurImage\",medianBlurImage)\n",
    "cv2.waitKey(0)\n",
    "cv2.destroyAllWindows()"
   ]
  }
 ],
 "metadata": {
  "kernelspec": {
   "display_name": "Python 2",
   "language": "python",
   "name": "python2"
  },
  "language_info": {
   "codemirror_mode": {
    "name": "ipython",
    "version": 2
   },
   "file_extension": ".py",
   "mimetype": "text/x-python",
   "name": "python",
   "nbconvert_exporter": "python",
   "pygments_lexer": "ipython2",
   "version": "2.7.17"
  }
 },
 "nbformat": 4,
 "nbformat_minor": 2
}
