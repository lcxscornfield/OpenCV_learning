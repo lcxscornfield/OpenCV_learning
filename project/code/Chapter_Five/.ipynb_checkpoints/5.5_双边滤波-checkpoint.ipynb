{
 "cells": [
  {
   "cell_type": "markdown",
   "metadata": {},
   "source": [
    " 双边滤波既考虑空间距离（同高斯卷积）也考虑相似性权重（例如卷积核中像素与中心像素之间相似程度、颜色强度，深度距离等）\n",
    " \n",
    " 双边滤波在平滑基础上保持了图像的边缘锐利。效果明显。"
   ]
  },
  {
   "cell_type": "markdown",
   "metadata": {},
   "source": [
    "原理部分"
   ]
  },
  {
   "cell_type": "code",
   "execution_count": 1,
   "metadata": {},
   "outputs": [
    {
     "data": {
      "text/plain": [
       "'\\n#\\xe9\\xab\\x98\\xe6\\x96\\xaf\\xe5\\xb9\\xb3\\xe6\\xbb\\x91\\nimage_gaussian = cv2.GaussianBlur(image,(51,51),5)\\n\\n#\\xe5\\x9d\\x87\\xe5\\x80\\xbc\\xe5\\xb9\\xb3\\xe6\\xbb\\x91\\nimage_meanblur = cv2.blur(image,(51,51))\\n\\n#\\xe4\\xb8\\xad\\xe5\\x80\\xbc\\xe5\\xb9\\xb3\\xe6\\xbb\\x91\\nimage_median = cv2.medianBlur(image,51)\\n\\ntitle = [\"image\",\"mean\",\"median\",\"gaussian\",\"bilateralFilter\"]\\nimgs = [image,image_meanblur,image_median,image_gaussian,image_bilateralFilter]\\n\\nfor i in range(5):\\n    cv2.imshow(title[i],imgs[i])\\n'"
      ]
     },
     "execution_count": 1,
     "metadata": {},
     "output_type": "execute_result"
    }
   ],
   "source": [
    "import cv2\n",
    "image = cv2.imread(\"img1.png\",0)\n",
    "#双边滤波\n",
    "image_bilateralFilter = cv2.bilateralFilter(image,51,51,30,0.2)\n",
    "'''\n",
    "#高斯平滑\n",
    "image_gaussian = cv2.GaussianBlur(image,(51,51),5)\n",
    "\n",
    "#均值平滑\n",
    "image_meanblur = cv2.blur(image,(51,51))\n",
    "\n",
    "#中值平滑\n",
    "image_median = cv2.medianBlur(image,51)\n",
    "\n",
    "title = [\"image\",\"mean\",\"median\",\"gaussian\",\"bilateralFilter\"]\n",
    "imgs = [image,image_meanblur,image_median,image_gaussian,image_bilateralFilter]\n",
    "\n",
    "for i in range(5):\n",
    "    cv2.imshow(title[i],imgs[i])\n",
    "'''\n",
    "cv2.waitKey(0)\n",
    "cv2.destroyAllWindows"
   ]
  },
  {
   "cell_type": "code",
   "execution_count": null,
   "metadata": {},
   "outputs": [],
   "source": []
  }
 ],
 "metadata": {
  "kernelspec": {
   "display_name": "Python 2",
   "language": "python",
   "name": "python2"
  },
  "language_info": {
   "codemirror_mode": {
    "name": "ipython",
    "version": 2
   },
   "file_extension": ".py",
   "mimetype": "text/x-python",
   "name": "python",
   "nbconvert_exporter": "python",
   "pygments_lexer": "ipython2",
   "version": "2.7.17"
  }
 },
 "nbformat": 4,
 "nbformat_minor": 2
}
