{
 "cells": [
  {
   "cell_type": "markdown",
   "metadata": {},
   "source": [
    "高斯平滑我理解为，利用高斯滤波器，使卷积核周围的像素点将影响锚点位置的像素，且核越大，影响越大，图像越模糊。sigma取值越大，图像越平缓（模糊）。\n",
    "\n",
    "cv2.GaussianBlur用于python中的高斯平滑。\n",
    "\n",
    "dst = cv2.GaussianBlur(src,ksize,sigmax);\n",
    "src表示原始图像，ksize表示核大小，sigmaX表示X方向方差。核大小（N, N）必须是奇数，X方向方差主要控制权重。"
   ]
  },
  {
   "cell_type": "code",
   "execution_count": 1,
   "metadata": {},
   "outputs": [],
   "source": [
    "import cv2\n",
    "#import numpy as np\n",
    "\n",
    "image = cv2.imread(\"img3.jpg\",0)\n",
    "#高斯平滑\n",
    "blurImage = cv2.GaussianBlur(image,(51,51),5)\n",
    "cv2.imshow(\"src\",image)\n",
    "cv2.imshow(\"GaussBlur\",blurImage)\n",
    "cv2.waitKey(0)\n",
    "cv2.destroyAllWindows()"
   ]
  },
  {
   "cell_type": "markdown",
   "metadata": {},
   "source": [
    "下面是构建高斯卷积函数原理，bug了。。  下面都是算法原理，上面是opencv内置函数可以直接调用"
   ]
  },
  {
   "cell_type": "code",
   "execution_count": 2,
   "metadata": {},
   "outputs": [
    {
     "ename": "TypeError",
     "evalue": "'float' object is not iterable",
     "output_type": "error",
     "traceback": [
      "\u001b[1;31m---------------------------------------------------------------------------\u001b[0m",
      "\u001b[1;31mTypeError\u001b[0m                                 Traceback (most recent call last)",
      "\u001b[1;32m<ipython-input-2-d48c9c6ea4db>\u001b[0m in \u001b[0;36m<module>\u001b[1;34m()\u001b[0m\n\u001b[0;32m     49\u001b[0m \u001b[1;31m#cv2.imwrite(\"img4.jpg\",image)\u001b[0m\u001b[1;33m\u001b[0m\u001b[1;33m\u001b[0m\u001b[0m\n\u001b[0;32m     50\u001b[0m \u001b[1;31m# 3 11 11 9 25 25\u001b[0m\u001b[1;33m\u001b[0m\u001b[1;33m\u001b[0m\u001b[0m\n\u001b[1;32m---> 51\u001b[1;33m \u001b[0mblurImage2\u001b[0m \u001b[1;33m=\u001b[0m \u001b[0mgaussBlur\u001b[0m\u001b[1;33m(\u001b[0m\u001b[0mimage2\u001b[0m\u001b[1;33m,\u001b[0m\u001b[1;36m5\u001b[0m\u001b[1;33m,\u001b[0m\u001b[1;36m51\u001b[0m\u001b[1;33m,\u001b[0m\u001b[1;36m51\u001b[0m\u001b[1;33m,\u001b[0m\u001b[1;34m'symm'\u001b[0m\u001b[1;33m)\u001b[0m\u001b[1;33m\u001b[0m\u001b[0m\n\u001b[0m\u001b[0;32m     52\u001b[0m '''\n\u001b[0;32m     53\u001b[0m \u001b[1;31m#如果输入的图像是8位图,输出的\u001b[0m\u001b[1;33m\u001b[0m\u001b[1;33m\u001b[0m\u001b[0m\n",
      "\u001b[1;32m<ipython-input-2-d48c9c6ea4db>\u001b[0m in \u001b[0;36mgaussBlur\u001b[1;34m(image, sigma, H, W, _boundary, _fillvalue)\u001b[0m\n\u001b[0;32m     39\u001b[0m     \u001b[1;31m#因为高斯核是可分解的，根据卷积的结合律\u001b[0m\u001b[1;33m\u001b[0m\u001b[1;33m\u001b[0m\u001b[0m\n\u001b[0;32m     40\u001b[0m     \u001b[1;31m#先进行水平方向的卷积，然后再进行垂直方向的卷积\u001b[0m\u001b[1;33m\u001b[0m\u001b[1;33m\u001b[0m\u001b[0m\n\u001b[1;32m---> 41\u001b[1;33m     \u001b[0mgaussKenrnel_x\u001b[0m \u001b[1;33m=\u001b[0m \u001b[0mgetGaussKernel\u001b[0m\u001b[1;33m(\u001b[0m\u001b[0msigma\u001b[0m\u001b[1;33m,\u001b[0m\u001b[1;36m1\u001b[0m\u001b[1;33m,\u001b[0m\u001b[0mW\u001b[0m\u001b[1;33m)\u001b[0m\u001b[1;33m\u001b[0m\u001b[0m\n\u001b[0m\u001b[0;32m     42\u001b[0m     \u001b[0mgaussBlur_x\u001b[0m \u001b[1;33m=\u001b[0m \u001b[0msignal\u001b[0m\u001b[1;33m.\u001b[0m\u001b[0mconvolve2d\u001b[0m\u001b[1;33m(\u001b[0m\u001b[0mimage\u001b[0m\u001b[1;33m,\u001b[0m\u001b[0mgaussKenrnel_x\u001b[0m\u001b[1;33m,\u001b[0m\u001b[0mmode\u001b[0m\u001b[1;33m=\u001b[0m\u001b[1;34m'same'\u001b[0m\u001b[1;33m,\u001b[0m\u001b[0mboundary\u001b[0m \u001b[1;33m=\u001b[0m \u001b[0m_boundary\u001b[0m\u001b[1;33m,\u001b[0m\u001b[0mfillvalue\u001b[0m\u001b[1;33m=\u001b[0m\u001b[0m_fillvalue\u001b[0m\u001b[1;33m)\u001b[0m\u001b[1;33m\u001b[0m\u001b[0m\n\u001b[0;32m     43\u001b[0m     \u001b[0mgaussKenrnel_y\u001b[0m \u001b[1;33m=\u001b[0m \u001b[0mgetGaussKernel\u001b[0m\u001b[1;33m(\u001b[0m\u001b[0msigma\u001b[0m\u001b[1;33m,\u001b[0m\u001b[0mH\u001b[0m\u001b[1;33m,\u001b[0m\u001b[1;36m1\u001b[0m\u001b[1;33m)\u001b[0m\u001b[1;33m\u001b[0m\u001b[0m\n",
      "\u001b[1;32m<ipython-input-2-d48c9c6ea4db>\u001b[0m in \u001b[0;36mgetGaussKernel\u001b[1;34m(sigma, H, W)\u001b[0m\n\u001b[0;32m     14\u001b[0m             \u001b[0mnorm2\u001b[0m \u001b[1;33m=\u001b[0m \u001b[0mmath\u001b[0m\u001b[1;33m.\u001b[0m\u001b[0mpow\u001b[0m\u001b[1;33m(\u001b[0m\u001b[0mr\u001b[0m\u001b[1;33m-\u001b[0m\u001b[0mcH\u001b[0m\u001b[1;33m,\u001b[0m\u001b[1;36m2\u001b[0m\u001b[1;33m)\u001b[0m \u001b[1;33m+\u001b[0m \u001b[0mmath\u001b[0m\u001b[1;33m.\u001b[0m\u001b[0mpow\u001b[0m\u001b[1;33m(\u001b[0m\u001b[0mc\u001b[0m\u001b[1;33m-\u001b[0m\u001b[0mcW\u001b[0m\u001b[1;33m,\u001b[0m\u001b[1;36m2\u001b[0m\u001b[1;33m)\u001b[0m\u001b[1;33m\u001b[0m\u001b[0m\n\u001b[0;32m     15\u001b[0m             \u001b[1;31m#math.pow(a,b)=a^b\u001b[0m\u001b[1;33m\u001b[0m\u001b[1;33m\u001b[0m\u001b[0m\n\u001b[1;32m---> 16\u001b[1;33m             \u001b[0mgaussMatrix\u001b[0m\u001b[1;33m[\u001b[0m\u001b[0mr\u001b[0m\u001b[1;33m]\u001b[0m\u001b[1;33m,\u001b[0m\u001b[1;33m[\u001b[0m\u001b[0mc\u001b[0m\u001b[1;33m]\u001b[0m \u001b[1;33m=\u001b[0m \u001b[0mmath\u001b[0m\u001b[1;33m.\u001b[0m\u001b[0mexp\u001b[0m\u001b[1;33m(\u001b[0m\u001b[1;33m-\u001b[0m\u001b[0mnorm2\u001b[0m\u001b[1;33m/\u001b[0m\u001b[1;33m(\u001b[0m\u001b[1;36m2\u001b[0m\u001b[1;33m*\u001b[0m\u001b[0mmath\u001b[0m\u001b[1;33m.\u001b[0m\u001b[0mpow\u001b[0m\u001b[1;33m(\u001b[0m\u001b[0msigma\u001b[0m\u001b[1;33m,\u001b[0m\u001b[1;36m2\u001b[0m\u001b[1;33m)\u001b[0m\u001b[1;33m)\u001b[0m\u001b[1;33m)\u001b[0m\u001b[1;33m\u001b[0m\u001b[0m\n\u001b[0m\u001b[0;32m     17\u001b[0m             \u001b[1;31m#math.exp(a)=e^a\u001b[0m\u001b[1;33m\u001b[0m\u001b[1;33m\u001b[0m\u001b[0m\n\u001b[0;32m     18\u001b[0m     \u001b[1;31m#第二步，计算高斯和\u001b[0m\u001b[1;33m\u001b[0m\u001b[1;33m\u001b[0m\u001b[0m\n",
      "\u001b[1;31mTypeError\u001b[0m: 'float' object is not iterable"
     ]
    }
   ],
   "source": [
    "#构建高斯卷积算子\n",
    "import numpy as np\n",
    "import math\n",
    "\n",
    "def getGaussKernel(sigma,H,W):\n",
    "    #第一步：构建高斯矩阵\n",
    "    gaussMatrix = np.zeros([H,W],np.float32)\n",
    "    #得到中心点位置\n",
    "    cH = (H-1)/2\n",
    "    cW = (W-1)/2\n",
    "    #计算gauss(sigma,r,c)\n",
    "    for r in xrange(H):\n",
    "        for c in xrange(W):\n",
    "            norm2 = math.pow(r-cH,2) + math.pow(c-cW,2)\n",
    "            #math.pow(a,b)=a^b\n",
    "            gaussMatrix[r],[c] = math.exp(-norm2/(2*math.pow(sigma,2))) \n",
    "            #math.exp(a)=e^a\n",
    "    #第二步，计算高斯和\n",
    "    sumGM = np.sum(gaussMatrix)\n",
    "    #第三步，归一化\n",
    "    gaussKernel = gaussMatrix/sumGM\n",
    "    return gaussKernel\n",
    "\n",
    "#实现高斯平滑\n",
    "# -*- coding: utf-8 -*-\n",
    "import sys\n",
    "import numpy as np\n",
    "from scipy import signal\n",
    "import cv2\n",
    "#高斯平滑，返回的数据类型为浮点型\n",
    "def gaussBlur(image,sigma,H,W,_boundary = 'fill',_fillvalue = 0):\n",
    "    '''\n",
    "    #构建HxW的高斯平滑算子\n",
    "    gaussKernelxy = getGaussKernel(sigma,H,W)\n",
    "    #图像矩阵和高斯卷积核卷积\n",
    "    gaussBlur_xy = signal.convolve2d(image,gaussKernelxy,mode='same',boundary = _boundary,fillvalue=_fillvalue)\n",
    "    return gaussBlur_xy\n",
    "    '''\n",
    "    #因为高斯核是可分解的，根据卷积的结合律\n",
    "    #先进行水平方向的卷积，然后再进行垂直方向的卷积\n",
    "    gaussKenrnel_x = getGaussKernel(sigma,1,W)\n",
    "    gaussBlur_x = signal.convolve2d(image,gaussKenrnel_x,mode='same',boundary = _boundary,fillvalue=_fillvalue)\n",
    "    gaussKenrnel_y = getGaussKernel(sigma,H,1)\n",
    "    gaussBlur_xy = signal.convolve2d(gaussBlur_x,gaussKenrnel_y,mode='same',boundary = _boundary,fillvalue=_fillvalue)\n",
    "    return gaussBlur_xy\n",
    "\n",
    "image2 = cv2.imread(\"img3.jpg\",0)\n",
    "cv2.imshow(\"image2\",image2)\n",
    "#cv2.imwrite(\"img4.jpg\",image)\n",
    "# 3 11 11 9 25 25\n",
    "blurImage2 = gaussBlur(image2,5,51,51,'symm')\n",
    "'''\n",
    "#如果输入的图像是8位图,输出的\n",
    "blurImage = np.round(blurImage)\n",
    "blurImage = blurImage.astype(np.uint8)\n",
    "cv2.imshow(\"gaussBlur\",blurImage)\n",
    "cv2.imwrite(\"gaussBlur.png\",blurImage)\n",
    "'''\n",
    "#如果输入的图像数据类型是浮点型，且像素值归一到[0,1]\n",
    "image_0_1 = image2/255.0\n",
    "blurImage_0_1 = gaussBlur(image_0_1,4,5,5,'symm')\n",
    "cv2.imshow(\"gaussBlur-0-1\",blurImage_0_1)\n",
    "cv2.waitKey(0)\n",
    "cv2.destroyAllWindows()"
   ]
  }
 ],
 "metadata": {
  "kernelspec": {
   "display_name": "Python 2",
   "language": "python",
   "name": "python2"
  },
  "language_info": {
   "codemirror_mode": {
    "name": "ipython",
    "version": 2
   },
   "file_extension": ".py",
   "mimetype": "text/x-python",
   "name": "python",
   "nbconvert_exporter": "python",
   "pygments_lexer": "ipython2",
   "version": "2.7.17"
  }
 },
 "nbformat": 4,
 "nbformat_minor": 2
}
